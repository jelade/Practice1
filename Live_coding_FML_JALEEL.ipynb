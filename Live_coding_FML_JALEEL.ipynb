{
  "nbformat": 4,
  "nbformat_minor": 0,
  "metadata": {
    "colab": {
      "provenance": [],
      "include_colab_link": true
    },
    "kernelspec": {
      "name": "python3",
      "display_name": "Python 3"
    },
    "language_info": {
      "name": "python"
    }
  },
  "cells": [
    {
      "cell_type": "markdown",
      "metadata": {
        "id": "view-in-github",
        "colab_type": "text"
      },
      "source": [
        "<a href=\"https://colab.research.google.com/github/jelade/Practice1/blob/main/Live_coding_FML_JALEEL.ipynb\" target=\"_parent\"><img src=\"https://colab.research.google.com/assets/colab-badge.svg\" alt=\"Open In Colab\"/></a>"
      ]
    },
    {
      "cell_type": "markdown",
      "source": [
        "# Question: \n",
        "Implement the Gradient Descent for the below problem. To do so, fill all the below function and provide a plot for the training loss.\n",
        "\n",
        "INSTRUCTION: Rename your notebook as: <br>\n",
        "`firstName_LastName_Live_coding_QUIZ_FML.ipynb`."
      ],
      "metadata": {
        "id": "p1qsV4uU14uH"
      }
    },
    {
      "cell_type": "code",
      "execution_count": 12,
      "metadata": {
        "id": "SXwIUOLIrRTw"
      },
      "outputs": [],
      "source": [
        "import numpy as np\n",
        "import matplotlib.pyplot as plt"
      ]
    },
    {
      "cell_type": "code",
      "source": [
        "# generate data\n",
        "def generate_data(n= 500):\n",
        "  x = np.linspace(-5.0, 5.0, n).reshape(-1,1)\n",
        "  y= (29 * x + 30 * np.random.rand(n,1)).squeeze()\n",
        "  x = np.hstack((np.ones_like(x), x))\n",
        "  return x,y"
      ],
      "metadata": {
        "id": "REXUAZOkrYYR"
      },
      "execution_count": 13,
      "outputs": []
    },
    {
      "cell_type": "code",
      "source": [
        "x,y= generate_data(n= 500) # get data\n",
        "x.shape, y.shape"
      ],
      "metadata": {
        "colab": {
          "base_uri": "https://localhost:8080/"
        },
        "id": "QyxaXE_-svo0",
        "outputId": "d03a8b6a-8ba1-410e-fd7d-cb61e5d65e89"
      },
      "execution_count": 14,
      "outputs": [
        {
          "output_type": "execute_result",
          "data": {
            "text/plain": [
              "((500, 2), (500,))"
            ]
          },
          "metadata": {},
          "execution_count": 14
        }
      ]
    },
    {
      "cell_type": "code",
      "source": [
        "# make prediction\n",
        "def make_prediction(x,theta):\n",
        "  y = x@theta\n",
        "  return y"
      ],
      "metadata": {
        "id": "sH32LKGBroIw"
      },
      "execution_count": 16,
      "outputs": []
    },
    {
      "cell_type": "code",
      "source": [
        "from collections.abc import MutableSet\n",
        "# compute the mean loss\n",
        "def mse(y,y_pred):\n",
        "  mse = np.mean((y-y_pred)**2)\n",
        "\n",
        "  return mse"
      ],
      "metadata": {
        "id": "-b2yGnRDrzAp"
      },
      "execution_count": 5,
      "outputs": []
    },
    {
      "cell_type": "code",
      "source": [],
      "metadata": {
        "id": "5XIp-LWQfHj4"
      },
      "execution_count": null,
      "outputs": []
    },
    {
      "cell_type": "code",
      "source": [
        "# compute the gradient of mse loss\n",
        "def grad_mse(x,y,theta):\n",
        "  grad = -2*x.T@(y-x@theta)\n",
        "\n",
        "  return grad\n",
        "  ## ADD YOUR CODES"
      ],
      "metadata": {
        "id": "hDRrLkDdsMhU"
      },
      "execution_count": 6,
      "outputs": []
    },
    {
      "cell_type": "code",
      "source": [
        "# update rule\n",
        "def grad_update(theta, grad, lr):\n",
        "\n",
        "  theta = theta - lr*grad\n",
        "  ## ADD YOUR CODES\n",
        "  return theta"
      ],
      "metadata": {
        "id": "s_abmJUVu_TV"
      },
      "execution_count": 7,
      "outputs": []
    },
    {
      "cell_type": "code",
      "source": [
        "# Initialize the theta value\n",
        "def theta_initialization(x):\n",
        "  ## ADD YOUR CODES\n",
        "  D,N = x.shape\n",
        "  theta = np.zeros((N))\n",
        "  return theta"
      ],
      "metadata": {
        "id": "L-ZBYJ3-yto7"
      },
      "execution_count": 8,
      "outputs": []
    },
    {
      "cell_type": "code",
      "source": [
        "n_epochs= 50\n",
        "lr= 10e-5\n",
        "losses= []\n",
        "theta= theta_initialization(x)# Initialize the weights\n",
        "\n",
        "for epoch in range(n_epochs):\n",
        "  # Make predictions\n",
        "  y_preds= make_prediction(x,theta) # ADD YOUR CODES\n",
        "  # compute the loss\n",
        "  loss=mse(y,y_preds) # ADD YOUR CODES\n",
        "  # compute the gradient\n",
        "  grad= grad_mse(x,y,theta) # ADD YOUR CODES\n",
        "  # Update rules\n",
        "  theta= grad_update(theta, grad, lr)\n",
        "\n",
        "  ## APPEND loss to losses\n",
        "  losses.append(loss)\n"
      ],
      "metadata": {
        "id": "asIYAj0RuqIR"
      },
      "execution_count": 19,
      "outputs": []
    },
    {
      "cell_type": "code",
      "source": [
        "# ADD YOUR CODES: Plot the losses\n",
        "\n",
        "plt.plot(losses)"
      ],
      "metadata": {
        "colab": {
          "base_uri": "https://localhost:8080/",
          "height": 282
        },
        "id": "l_TqQKw2vbCd",
        "outputId": "1cda4f3d-2730-4612-9b64-ce5bec82a34e"
      },
      "execution_count": 20,
      "outputs": [
        {
          "output_type": "execute_result",
          "data": {
            "text/plain": [
              "[<matplotlib.lines.Line2D at 0x7fac25b274f0>]"
            ]
          },
          "metadata": {},
          "execution_count": 20
        },
        {
          "output_type": "display_data",
          "data": {
            "text/plain": [
              "<Figure size 432x288 with 1 Axes>"
            ],
            "image/png": "[encoded data removed]"
          },
          "metadata": {
            "needs_background": "light"
          }
        }
      ]
    },
    {
      "cell_type": "code",
      "source": [],
      "metadata": {
        "id": "oW75XDsEwYMx"
      },
      "execution_count": null,
      "outputs": []
    }
  ]
}